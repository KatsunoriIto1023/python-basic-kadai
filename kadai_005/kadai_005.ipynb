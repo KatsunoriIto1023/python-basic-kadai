{
  "nbformat": 4,
  "nbformat_minor": 0,
  "metadata": {
    "colab": {
      "provenance": []
    },
    "kernelspec": {
      "name": "python3",
      "display_name": "Python 3"
    },
    "language_info": {
      "name": "python"
    }
  },
  "cells": [
    {
      "cell_type": "code",
      "execution_count": 1,
      "metadata": {
        "colab": {
          "base_uri": "https://localhost:8080/"
        },
        "id": "D7WDXrSX4YXt",
        "outputId": "f00bb141-5ef7-417f-e55d-c099943c9429"
      },
      "outputs": [
        {
          "output_type": "stream",
          "name": "stdout",
          "text": [
            "75.0㎠\n"
          ]
        }
      ],
      "source": [
        "top = 10\n",
        "bottom = 20\n",
        "heigth = 5\n",
        "\n",
        "S = (top + bottom)*heigth/2\n",
        "\n",
        "print(f\"{S}㎠\")\n"
      ]
    }
  ]
}